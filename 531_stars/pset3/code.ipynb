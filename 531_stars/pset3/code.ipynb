{
 "cells": [
  {
   "cell_type": "code",
   "execution_count": 1,
   "id": "7ce4ae43-fb15-4e18-9eda-e5348e3c0438",
   "metadata": {},
   "outputs": [],
   "source": [
    "import astropy.units as u\n",
    "import astropy.constants as const\n",
    "import numpy as np"
   ]
  },
  {
   "cell_type": "code",
   "execution_count": 2,
   "id": "f367254c-5ae0-47d7-88ac-55c59395e3d1",
   "metadata": {},
   "outputs": [],
   "source": [
    "import matplotlib.pyplot as plt"
   ]
  },
  {
   "cell_type": "code",
   "execution_count": 3,
   "id": "8fc7b9d4-74cc-4d8d-b2a0-a4c23b3db6de",
   "metadata": {},
   "outputs": [],
   "source": [
    "%config InlineBackend.figure_format = 'retina'\n",
    "\n",
    "plt.rc('font', family='serif')\n",
    "plt.rcParams['text.usetex'] = False\n",
    "fs = 24\n",
    "\n",
    "# update various fontsizes to match\n",
    "params = {'figure.figsize': (12, 8),\n",
    "          'legend.fontsize': fs,\n",
    "          'axes.labelsize': fs,\n",
    "          'xtick.labelsize': 0.6 * fs,\n",
    "          'ytick.labelsize': 0.6 * fs,\n",
    "          'axes.linewidth': 1.1,\n",
    "          'xtick.major.size': 7,\n",
    "          'xtick.minor.size': 4,\n",
    "          'ytick.major.size': 7,\n",
    "          'ytick.minor.size': 4}\n",
    "plt.rcParams.update(params)"
   ]
  },
  {
   "cell_type": "markdown",
   "id": "4b6eda1f-f9a6-497b-8cb4-557c52a9529e",
   "metadata": {},
   "source": [
    "# 12.2"
   ]
  },
  {
   "cell_type": "code",
   "execution_count": 11,
   "id": "753f7631-e2ee-440d-b675-a1835b89b0c8",
   "metadata": {},
   "outputs": [],
   "source": [
    "masses = [0.3, 3, 30] * u.Msun"
   ]
  },
  {
   "cell_type": "markdown",
   "id": "3cbb35df-c610-4d4c-a59f-7e55dda7d09a",
   "metadata": {},
   "source": [
    "## part a"
   ]
  },
  {
   "cell_type": "code",
   "execution_count": 12,
   "id": "f25611e1-4b06-4974-84d5-270c4cba8043",
   "metadata": {},
   "outputs": [],
   "source": [
    "def R_Hayashi_start(M):\n",
    "    return 100 * u.Rsun * M.to(u.Msun).value\n",
    "\n",
    "def R_Hayashi_end(M):\n",
    "    return 2 * u.Rsun * M.to(u.Msun).value\n",
    "\n",
    "def R_PMS_start(M):\n",
    "    return R_Hayashi_end(M)\n",
    "\n",
    "def R_PMS_end(M):\n",
    "    return u.Rsun * M.to(u.Msun).value**(0.7)"
   ]
  },
  {
   "cell_type": "code",
   "execution_count": 16,
   "id": "d52dbc59-f3df-4c49-b499-39fd0ca3376b",
   "metadata": {},
   "outputs": [
    {
     "name": "stdout",
     "output_type": "stream",
     "text": [
      "30.0 0.6 0.6 0.43\n",
      "300.0 6.0 6.0 2.16\n",
      "3000.0 60.0 60.0 10.81\n"
     ]
    }
   ],
   "source": [
    "for mass in masses:\n",
    "    print(R_Hayashi_start(mass).value, R_Hayashi_end(mass).value, R_PMS_start(mass).value, np.round(R_PMS_end(mass).value, 2))"
   ]
  },
  {
   "cell_type": "markdown",
   "id": "68de568a-846e-4e63-ae38-bfe292d34400",
   "metadata": {},
   "source": [
    "## part b"
   ]
  },
  {
   "cell_type": "code",
   "execution_count": 4,
   "id": "ab2056e8-b1b9-4170-a55c-42c4cab01df8",
   "metadata": {},
   "outputs": [],
   "source": [
    "def tau_Hayashi(M):\n",
    "    return 1e6 * u.yr / M.to(u.Msun).value\n",
    "\n",
    "def tau_PMS(M):\n",
    "    return 6e7 * u.yr * M.to(u.Msun).value**(-2.5)"
   ]
  },
  {
   "cell_type": "code",
   "execution_count": 21,
   "id": "6eace4a8-02c2-4787-af40-35ed5289dd64",
   "metadata": {},
   "outputs": [
    {
     "name": "stdout",
     "output_type": "stream",
     "text": [
      "Mass: 0.3 solMass\t Hayashi: 3.33e+06 yr | PMS: 1.22e+09 yr\n",
      "Mass: 3.0 solMass\t Hayashi: 3.33e+05 yr | PMS: 3.85e+06 yr\n",
      "Mass: 30.0 solMass\t Hayashi: 3.33e+04 yr | PMS: 1.22e+04 yr\n"
     ]
    }
   ],
   "source": [
    "for mass in masses:\n",
    "    print(f\"Mass: {mass}\\t Hayashi: {tau_Hayashi(mass):1.2e} | PMS: {tau_PMS(mass):1.2e}\")"
   ]
  }
 ],
 "metadata": {
  "kernelspec": {
   "display_name": "Python 3 (ipykernel)",
   "language": "python",
   "name": "python3"
  },
  "language_info": {
   "codemirror_mode": {
    "name": "ipython",
    "version": 3
   },
   "file_extension": ".py",
   "mimetype": "text/x-python",
   "name": "python",
   "nbconvert_exporter": "python",
   "pygments_lexer": "ipython3",
   "version": "3.10.4"
  }
 },
 "nbformat": 4,
 "nbformat_minor": 5
}
