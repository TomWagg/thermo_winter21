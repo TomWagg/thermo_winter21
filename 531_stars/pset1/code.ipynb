{
 "cells": [
  {
   "cell_type": "markdown",
   "id": "6bb7a4e2-7063-4c44-a3ac-ae0583636910",
   "metadata": {},
   "source": [
    "# Problem Set 1"
   ]
  },
  {
   "cell_type": "code",
   "execution_count": 2,
   "id": "54336f39-3485-4bc9-a832-65d5d45e9fd4",
   "metadata": {},
   "outputs": [],
   "source": [
    "import numpy as np\n",
    "\n",
    "import astropy.units as u\n",
    "import astropy.constants as const"
   ]
  },
  {
   "cell_type": "markdown",
   "id": "e3f55b64-b983-4dde-8f76-873b5b4f4d36",
   "metadata": {},
   "source": [
    "## 2.1"
   ]
  },
  {
   "cell_type": "markdown",
   "id": "4da3d964-5b96-4758-9afa-ece39687ce42",
   "metadata": {},
   "source": [
    "### a"
   ]
  },
  {
   "cell_type": "code",
   "execution_count": 10,
   "id": "e2ac2ec1-2c8e-4aa4-a04a-77478252ce15",
   "metadata": {},
   "outputs": [
    {
     "data": {
      "text/latex": [
       "$2570 \\; \\mathrm{R_{\\odot}}$"
      ],
      "text/plain": [
       "<Quantity 2570. solRad>"
      ]
     },
     "execution_count": 10,
     "metadata": {},
     "output_type": "execute_result"
    }
   ],
   "source": [
    "Teff = 2700 * u.K\n",
    "L = 10**(5.5) * u.L_sun\n",
    "R = np.sqrt(L / (4 * np.pi * const.sigma_sb * Teff**4))\n",
    "R.to(u.Rsun).round(0)"
   ]
  },
  {
   "cell_type": "markdown",
   "id": "fd0169c6-d733-44a9-9983-b53de2095436",
   "metadata": {},
   "source": [
    "### b"
   ]
  },
  {
   "cell_type": "code",
   "execution_count": 20,
   "id": "3069dbb1-3a1b-4c40-9a3b-e51cd5699f1d",
   "metadata": {},
   "outputs": [
    {
     "data": {
      "text/latex": [
       "$1.66 \\times 10^{-6} \\; \\mathrm{\\frac{kg}{m^{3}}}$"
      ],
      "text/plain": [
       "<Quantity 1.66e-06 kg / m3>"
      ]
     },
     "execution_count": 20,
     "metadata": {},
     "output_type": "execute_result"
    }
   ],
   "source": [
    "M = 20 * u.Msun\n",
    "rho = M / (4/3 * np.pi * R**3)\n",
    "rho.to(u.kg / u.m**3).round(8)"
   ]
  },
  {
   "cell_type": "markdown",
   "id": "bcbb4b13-6cd2-4e9e-94f0-493b9c427402",
   "metadata": {},
   "source": [
    "### c"
   ]
  },
  {
   "cell_type": "code",
   "execution_count": 37,
   "id": "569ad869-62e2-4e13-8de1-b772ec035dd1",
   "metadata": {},
   "outputs": [
    {
     "data": {
      "text/latex": [
       "$54500 \\; \\mathrm{\\frac{m}{s}}$"
      ],
      "text/plain": [
       "<Quantity 54500. m / s>"
      ]
     },
     "execution_count": 37,
     "metadata": {},
     "output_type": "execute_result"
    }
   ],
   "source": [
    "def escape_velocity(M, R):\n",
    "    return np.sqrt(2 * const.G * M / R)\n",
    "    \n",
    "v_esc = escape_velocity(M, R)\n",
    "v_esc.to(u.m / u.s).round(-2)"
   ]
  },
  {
   "cell_type": "markdown",
   "id": "526e45d5-36c6-40ab-b7ea-c591ddb8690d",
   "metadata": {},
   "source": [
    "### d"
   ]
  },
  {
   "cell_type": "code",
   "execution_count": 41,
   "id": "bc5753f3-dfce-4c62-a6a3-7bd075112561",
   "metadata": {},
   "outputs": [
    {
     "name": "stdout",
     "output_type": "stream",
     "text": [
      "2570.0\n",
      "1.1781084645660287e-09\n",
      "0.08821697906566281\n"
     ]
    }
   ],
   "source": [
    "rho_sun = 1.41 * u.g/u.cm**3\n",
    "print(R.to(u.Rsun).round(0).value)\n",
    "print((rho / rho_sun).decompose())\n",
    "print((v_esc / escape_velocity(u.Msun, u.Rsun)).decompose())"
   ]
  },
  {
   "cell_type": "code",
   "execution_count": 45,
   "id": "0bdd698f-aec7-469c-b14c-55578bec6fa0",
   "metadata": {},
   "outputs": [],
   "source": [
    "m_earth = 5.972e24 * u.kg"
   ]
  },
  {
   "cell_type": "code",
   "execution_count": 49,
   "id": "ffcb54a7-0b7e-4e9a-a62b-3783c76afbf5",
   "metadata": {},
   "outputs": [
    {
     "data": {
      "text/latex": [
       "$3.5664784 \\times 10^{49} \\; \\mathrm{\\frac{kg^{2}}{M_{\\odot}^{2}}}$"
      ],
      "text/plain": [
       "<Quantity 3.5664784e+49 kg2 / solMass2>"
      ]
     },
     "execution_count": 49,
     "metadata": {},
     "output_type": "execute_result"
    }
   ],
   "source": [
    "(m_earth**2 / u.Msun**2)"
   ]
  }
 ],
 "metadata": {
  "kernelspec": {
   "display_name": "Python 3 (ipykernel)",
   "language": "python",
   "name": "python3"
  },
  "language_info": {
   "codemirror_mode": {
    "name": "ipython",
    "version": 3
   },
   "file_extension": ".py",
   "mimetype": "text/x-python",
   "name": "python",
   "nbconvert_exporter": "python",
   "pygments_lexer": "ipython3",
   "version": "3.9.7"
  }
 },
 "nbformat": 4,
 "nbformat_minor": 5
}
