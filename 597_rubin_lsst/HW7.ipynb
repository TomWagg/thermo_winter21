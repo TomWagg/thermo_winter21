{
 "cells": [
  {
   "cell_type": "markdown",
   "id": "2e434af5-e7ea-4481-8db8-93aeb6821c09",
   "metadata": {
    "execution": {
     "iopub.execute_input": "2023-01-30T01:10:23.448807Z",
     "iopub.status.busy": "2023-01-30T01:10:23.447973Z",
     "iopub.status.idle": "2023-01-30T01:10:23.452882Z",
     "shell.execute_reply": "2023-01-30T01:10:23.452092Z",
     "shell.execute_reply.started": "2023-01-30T01:10:23.448782Z"
    }
   },
   "source": [
    "## ASTR 597A Homework 7\n",
    "Eric Bellm\n",
    "\n",
    "Due Feb 21, 2023"
   ]
  },
  {
   "cell_type": "markdown",
   "id": "47ca2b20-7e93-49dd-b179-5c807da364af",
   "metadata": {
    "execution": {
     "iopub.execute_input": "2023-01-30T01:10:37.231882Z",
     "iopub.status.busy": "2023-01-30T01:10:37.231002Z",
     "iopub.status.idle": "2023-01-30T01:10:37.235381Z",
     "shell.execute_reply": "2023-01-30T01:10:37.234794Z",
     "shell.execute_reply.started": "2023-01-30T01:10:37.231856Z"
    }
   },
   "source": [
    "Your name: Tom Wagg\n",
    "    \n",
    "Your collaborators:"
   ]
  },
  {
   "cell_type": "markdown",
   "id": "d31e62e1-62bc-48ac-8cf9-1629ede6d7ea",
   "metadata": {},
   "source": [
    "For this homework we'll need another external package, [sncosmo](https://sncosmo.readthedocs.io/).  Install it and then restart the kernel:"
   ]
  },
  {
   "cell_type": "code",
   "execution_count": 1,
   "id": "4298d2bc-3067-4e35-baef-ab4bd812dcc7",
   "metadata": {
    "tags": []
   },
   "outputs": [
    {
     "name": "stdout",
     "output_type": "stream",
     "text": [
      "Collecting sncosmo\n",
      "  Downloading sncosmo-2.9.0-cp310-cp310-manylinux_2_5_x86_64.manylinux1_x86_64.manylinux_2_12_x86_64.manylinux2010_x86_64.whl (656 kB)\n",
      "\u001b[2K     \u001b[90m━━━━━━━━━━━━━━━━━━━━━━━━━━━━━━━━━━━━━━━\u001b[0m \u001b[32m656.5/656.5 kB\u001b[0m \u001b[31m9.5 MB/s\u001b[0m eta \u001b[36m0:00:00\u001b[0ma \u001b[36m0:00:01\u001b[0m\n",
      "\u001b[?25hRequirement already satisfied: pyyaml>=3.13 in /opt/lsst/software/stack/conda/miniconda3-py38_4.9.2/envs/lsst-scipipe-4.1.0/lib/python3.10/site-packages (from sncosmo) (6.0)\n",
      "Requirement already satisfied: scipy>=0.19.0 in /opt/lsst/software/stack/conda/miniconda3-py38_4.9.2/envs/lsst-scipipe-4.1.0/lib/python3.10/site-packages (from sncosmo) (1.8.1)\n",
      "Collecting extinction>=0.4.2\n",
      "  Downloading extinction-0.4.6-cp310-cp310-manylinux_2_5_x86_64.manylinux1_x86_64.manylinux_2_12_x86_64.manylinux2010_x86_64.whl (443 kB)\n",
      "\u001b[2K     \u001b[90m━━━━━━━━━━━━━━━━━━━━━━━━━━━━━━━━━━━━━━\u001b[0m \u001b[32m443.4/443.4 kB\u001b[0m \u001b[31m19.6 MB/s\u001b[0m eta \u001b[36m0:00:00\u001b[0m\n",
      "\u001b[?25hRequirement already satisfied: numpy>=1.13.3 in /opt/lsst/software/stack/conda/miniconda3-py38_4.9.2/envs/lsst-scipipe-4.1.0/lib/python3.10/site-packages (from sncosmo) (1.21.6)\n",
      "Requirement already satisfied: astropy>=1.3.0 in /opt/lsst/software/stack/conda/miniconda3-py38_4.9.2/envs/lsst-scipipe-4.1.0/lib/python3.10/site-packages (from sncosmo) (5.1)\n",
      "Requirement already satisfied: packaging>=19.0 in /opt/lsst/software/stack/conda/miniconda3-py38_4.9.2/envs/lsst-scipipe-4.1.0/lib/python3.10/site-packages (from astropy>=1.3.0->sncosmo) (21.3)\n",
      "Requirement already satisfied: pyerfa>=2.0 in /opt/lsst/software/stack/conda/miniconda3-py38_4.9.2/envs/lsst-scipipe-4.1.0/lib/python3.10/site-packages (from astropy>=1.3.0->sncosmo) (2.0.0.1)\n",
      "Requirement already satisfied: pyparsing!=3.0.5,>=2.0.2 in /opt/lsst/software/stack/conda/miniconda3-py38_4.9.2/envs/lsst-scipipe-4.1.0/lib/python3.10/site-packages (from packaging>=19.0->astropy>=1.3.0->sncosmo) (3.0.9)\n",
      "Installing collected packages: extinction, sncosmo\n",
      "Successfully installed extinction-0.4.6 sncosmo-2.9.0\n"
     ]
    }
   ],
   "source": [
    "!pip install --user sncosmo"
   ]
  },
  {
   "cell_type": "code",
   "execution_count": 1,
   "id": "21854096-c051-43b4-9e2e-7186e14857ad",
   "metadata": {
    "execution": {
     "iopub.execute_input": "2023-02-21T17:34:50.222270Z",
     "iopub.status.busy": "2023-02-21T17:34:50.221407Z",
     "iopub.status.idle": "2023-02-21T17:34:50.775856Z",
     "shell.execute_reply": "2023-02-21T17:34:50.775105Z",
     "shell.execute_reply.started": "2023-02-21T17:34:50.222238Z"
    },
    "tags": []
   },
   "outputs": [
    {
     "name": "stderr",
     "output_type": "stream",
     "text": [
      "WARNING: AstropyDeprecationWarning: The update_default_config function is deprecated and may be removed in a future version. [sncosmo]\n"
     ]
    },
    {
     "data": {
      "text/html": [
       "<pre style=\"margin: 0.1em;\n",
       "padding-left: 0.25em;\n",
       "border-left-style: solid;\n",
       "font-family: var(--jp-code-font-family);\n",
       "font-size: var(--jp-code-font-size);\n",
       "line-height: var(--jp-code-line-height);\n",
       "\"><span style=\"color: var(--jp-warn-color2)\">astropy</span> <span style=\"color: var(--jp-warn-color0)\">WARNING</span>: AstropyDeprecationWarning: The update_default_config function is deprecated and may be removed in a future version.</pre>"
      ],
      "text/plain": [
       "<IPython.core.display.HTML object>"
      ]
     },
     "metadata": {},
     "output_type": "display_data"
    }
   ],
   "source": [
    "import sncosmo"
   ]
  },
  {
   "cell_type": "code",
   "execution_count": 14,
   "id": "37d253c5-4f02-488b-a590-01204ac39986",
   "metadata": {
    "execution": {
     "iopub.execute_input": "2023-02-21T17:40:40.999838Z",
     "iopub.status.busy": "2023-02-21T17:40:40.999115Z",
     "iopub.status.idle": "2023-02-21T17:40:41.063178Z",
     "shell.execute_reply": "2023-02-21T17:40:41.062261Z",
     "shell.execute_reply.started": "2023-02-21T17:40:40.999808Z"
    },
    "tags": []
   },
   "outputs": [],
   "source": [
    "import time\n",
    "from IPython.display import Image\n",
    "\n",
    "import numpy as np\n",
    "import matplotlib.pyplot as plt\n",
    "\n",
    "from lsst.rsp import get_tap_service\n",
    "\n",
    "from astropy.cosmology import FlatLambdaCDM\n",
    "\n",
    "from astropy.stats import sigma_clipped_stats\n",
    "\n",
    "%config InlineBackend.figure_format = \"retina\"\n",
    "\n",
    "import astropy.units as u\n",
    "from ipywidgets import interact, interactive, fixed, interact_manual\n",
    "import ipywidgets as widgets"
   ]
  },
  {
   "cell_type": "code",
   "execution_count": 3,
   "id": "6b398732-a4e4-4320-868f-c72f52192580",
   "metadata": {
    "execution": {
     "iopub.execute_input": "2023-02-21T17:34:57.329675Z",
     "iopub.status.busy": "2023-02-21T17:34:57.329327Z",
     "iopub.status.idle": "2023-02-21T17:34:57.434050Z",
     "shell.execute_reply": "2023-02-21T17:34:57.433210Z",
     "shell.execute_reply.started": "2023-02-21T17:34:57.329652Z"
    },
    "tags": []
   },
   "outputs": [],
   "source": [
    "service = get_tap_service()\n",
    "cosmo = FlatLambdaCDM(H0=70, Om0=0.3)"
   ]
  },
  {
   "cell_type": "code",
   "execution_count": 4,
   "id": "2ff9ecd1-a8a3-415b-bb78-ead3e4eb653d",
   "metadata": {
    "execution": {
     "iopub.execute_input": "2023-02-21T17:34:58.355685Z",
     "iopub.status.busy": "2023-02-21T17:34:58.354960Z",
     "iopub.status.idle": "2023-02-21T17:34:58.359810Z",
     "shell.execute_reply": "2023-02-21T17:34:58.359213Z",
     "shell.execute_reply.started": "2023-02-21T17:34:58.355655Z"
    },
    "tags": []
   },
   "outputs": [],
   "source": [
    "plt.style.use('tableau-colorblind10')\n",
    "\n",
    "plot_filter_labels = ['u', 'g', 'r', 'i', 'z', 'y']\n",
    "plot_filter_colors = {'u': '#56b4e9', 'g': '#008060', 'r': '#ff4000',\n",
    "                      'i': '#850000', 'z': '#6600cc', 'y': '#000000'}\n",
    "plot_filter_symbols = {'u': 'o', 'g': '^', 'r': 'v', 'i': 's', 'z': '*', 'y': 'p'}"
   ]
  },
  {
   "cell_type": "markdown",
   "id": "2cbf14dd-04a4-46b1-b30a-5d00c95562ae",
   "metadata": {
    "execution": {
     "iopub.execute_input": "2023-02-12T01:14:57.524985Z",
     "iopub.status.busy": "2023-02-12T01:14:57.524316Z",
     "iopub.status.idle": "2023-02-12T01:14:57.535548Z",
     "shell.execute_reply": "2023-02-12T01:14:57.534982Z",
     "shell.execute_reply.started": "2023-02-12T01:14:57.524957Z"
    },
    "tags": []
   },
   "source": [
    "## Exercise 1: Searching for Supernovae\n",
    "\n",
    "Without using the truth table information, identify a sample of 40 or more candidate Ia supernovae.\n",
    "\n",
    "The 07a tutorial notebook may be helpful."
   ]
  },
  {
   "cell_type": "code",
   "execution_count": 5,
   "id": "2fbaa10f-37f5-4f68-a194-655aae4b9864",
   "metadata": {
    "execution": {
     "iopub.execute_input": "2023-02-21T17:35:00.159890Z",
     "iopub.status.busy": "2023-02-21T17:35:00.159033Z",
     "iopub.status.idle": "2023-02-21T17:35:00.165300Z",
     "shell.execute_reply": "2023-02-21T17:35:00.164670Z",
     "shell.execute_reply.started": "2023-02-21T17:35:00.159856Z"
    },
    "tags": []
   },
   "outputs": [
    {
     "name": "stdout",
     "output_type": "stream",
     "text": [
      "The minimum and maximum apparent r-band magnitudes to use in the TAP query are 18.82 and 22.46 mag.\n"
     ]
    }
   ],
   "source": [
    "redshift_min = 0.1\n",
    "redshift_max = 0.3\n",
    "\n",
    "snia_peak_mag = -19.0\n",
    "snia_peak_mag_range = 0.5\n",
    "\n",
    "snia_peak_mr_min = cosmo.distmod(redshift_min).value + snia_peak_mag - snia_peak_mag_range\n",
    "snia_peak_mr_max = cosmo.distmod(redshift_max).value + snia_peak_mag + snia_peak_mag_range\n",
    "print('The minimum and maximum apparent r-band magnitudes '\n",
    "      'to use in the TAP query are %5.2f and %5.2f mag.' %\n",
    "      (snia_peak_mr_min, snia_peak_mr_max))\n",
    "\n",
    "snia_peak_mg_max = 24.0\n",
    "snia_peak_mi_max = 24.0\n",
    "\n",
    "snia_ampl_mr_min = 1.5\n",
    "snia_ampl_mr_max = 5.5\n",
    "\n",
    "snia_nDiaSources_min = 15\n",
    "snia_nDiaSources_max = 100\n",
    "\n",
    "snia_duration_min = 50\n",
    "snia_duration_max = 300"
   ]
  },
  {
   "cell_type": "code",
   "execution_count": 9,
   "id": "a2f693b3-77b7-4742-a712-857a2a4b6cf6",
   "metadata": {
    "execution": {
     "iopub.execute_input": "2023-02-21T17:35:58.496777Z",
     "iopub.status.busy": "2023-02-21T17:35:58.495889Z",
     "iopub.status.idle": "2023-02-21T17:36:00.299228Z",
     "shell.execute_reply": "2023-02-21T17:36:00.298538Z",
     "shell.execute_reply.started": "2023-02-21T17:35:58.496745Z"
    },
    "tags": []
   },
   "outputs": [
    {
     "name": "stdout",
     "output_type": "stream",
     "text": [
      "CPU times: user 96.7 ms, sys: 3.64 ms, total: 100 ms\n",
      "Wall time: 1.8 s\n"
     ]
    },
    {
     "name": "stderr",
     "output_type": "stream",
     "text": [
      "/opt/lsst/software/stack/conda/miniconda3-py38_4.9.2/envs/lsst-scipipe-5.1.0/lib/python3.10/site-packages/pyvo/dal/query.py:324: DALOverflowWarning: Partial result set. Potential causes MAXREC, async storage space, etc.\n",
      "  warn(\"Partial result set. Potential causes MAXREC, async storage space, etc.\",\n"
     ]
    }
   ],
   "source": [
    "%%time\n",
    "\n",
    "results = service.search(\"SELECT ra, decl, diaObjectId, nDiaSources, \"\n",
    "                         \"scisql_nanojanskyToAbMag(rPSFluxMin) AS rMagMax, \"\n",
    "                         \"scisql_nanojanskyToAbMag(rPSFluxMax) AS rMagMin, \"\n",
    "                         \"scisql_nanojanskyToAbMag(gPSFluxMax) AS gMagMin, \"\n",
    "                         \"scisql_nanojanskyToAbMag(iPSFluxMax) AS iMagMin, \"\n",
    "                         \"scisql_nanojanskyToAbMag(rPSFluxMin)\"\n",
    "                         \" - scisql_nanojanskyToAbMag(rPSFluxMax) AS rMagAmp \"\n",
    "                         \"FROM dp02_dc2_catalogs.DiaObject \"\n",
    "                         \"WHERE nDiaSources > \"+str(snia_nDiaSources_min)+\" \"\n",
    "                         \"AND nDiaSources < \"+str(snia_nDiaSources_max)+\" \"\n",
    "                         \"AND scisql_nanojanskyToAbMag(rPSFluxMax) > \"+str(snia_peak_mr_min)+\" \"\n",
    "                         \"AND scisql_nanojanskyToAbMag(rPSFluxMax) < \"+str(snia_peak_mr_max)+\" \"\n",
    "                         \"AND scisql_nanojanskyToAbMag(gPSFluxMax) < \"+str(snia_peak_mg_max)+\" \"\n",
    "                         \"AND scisql_nanojanskyToAbMag(iPSFluxMax) < \"+str(snia_peak_mi_max)+\" \"\n",
    "                         \"AND scisql_nanojanskyToAbMag(rPSFluxMin)\"\n",
    "                         \" - scisql_nanojanskyToAbMag(rPSFluxMax) < \"+str(snia_ampl_mr_max)+\" \"\n",
    "                         \"AND scisql_nanojanskyToAbMag(rPSFluxMin)\"\n",
    "                         \" - scisql_nanojanskyToAbMag(rPSFluxMax) > \"+str(snia_ampl_mr_min)+\" \",\n",
    "                         maxrec=2500)\n",
    "\n",
    "DiaObjs = results.to_table()\n",
    "del results"
   ]
  },
  {
   "cell_type": "code",
   "execution_count": 10,
   "id": "3ef8f390-6279-40d0-9b25-d8ee3f1a43a4",
   "metadata": {
    "execution": {
     "iopub.execute_input": "2023-02-21T17:36:03.284760Z",
     "iopub.status.busy": "2023-02-21T17:36:03.283941Z",
     "iopub.status.idle": "2023-02-21T17:40:26.496945Z",
     "shell.execute_reply": "2023-02-21T17:40:26.495957Z",
     "shell.execute_reply.started": "2023-02-21T17:36:03.284724Z"
    },
    "tags": []
   },
   "outputs": [
    {
     "name": "stdout",
     "output_type": "stream",
     "text": [
      "CPU times: user 20.3 s, sys: 858 ms, total: 21.1 s\n",
      "Wall time: 4min 23s\n"
     ]
    }
   ],
   "source": [
    "%%time\n",
    "\n",
    "DiaObjs['duration'] = np.zeros(len(DiaObjs), dtype='float')\n",
    "\n",
    "for j,DiaObjId in enumerate(DiaObjs['diaObjectId']):\n",
    "    results = service.search(\"SELECT diaObjectId, midPointTai \"\n",
    "                             \"FROM dp02_dc2_catalogs.DiaSource \"\n",
    "                             \"WHERE diaObjectId = \"+str(DiaObjId))\n",
    "    results = results.to_table()\n",
    "    DiaObjs['duration'][j] = np.max(results['midPointTai']) - np.min(results['midPointTai'])\n",
    "    del results"
   ]
  },
  {
   "cell_type": "code",
   "execution_count": 12,
   "id": "0b2c49c9-7819-413c-8dfe-11c817194b17",
   "metadata": {
    "execution": {
     "iopub.execute_input": "2023-02-21T17:40:31.206180Z",
     "iopub.status.busy": "2023-02-21T17:40:31.205105Z",
     "iopub.status.idle": "2023-02-21T17:40:31.210926Z",
     "shell.execute_reply": "2023-02-21T17:40:31.210021Z",
     "shell.execute_reply.started": "2023-02-21T17:40:31.206145Z"
    },
    "tags": []
   },
   "outputs": [
    {
     "name": "stdout",
     "output_type": "stream",
     "text": [
      "112\n"
     ]
    }
   ],
   "source": [
    "tx = np.where((DiaObjs['duration'] > snia_duration_min)\n",
    "                 & (DiaObjs['duration'] < snia_duration_max))[0]\n",
    "print(len(tx))"
   ]
  },
  {
   "cell_type": "code",
   "execution_count": 13,
   "id": "527dc445-d4b0-4a56-b232-526d621905e5",
   "metadata": {
    "execution": {
     "iopub.execute_input": "2023-02-21T17:40:34.735750Z",
     "iopub.status.busy": "2023-02-21T17:40:34.735008Z",
     "iopub.status.idle": "2023-02-21T17:40:34.753982Z",
     "shell.execute_reply": "2023-02-21T17:40:34.753260Z",
     "shell.execute_reply.started": "2023-02-21T17:40:34.735722Z"
    },
    "tags": []
   },
   "outputs": [],
   "source": [
    "sn_ids = DiaObjs.to_pandas().loc[tx][\"diaObjectId\"].values\n",
    "np.save(\"potential_sn_ids\", sn_ids)"
   ]
  },
  {
   "cell_type": "code",
   "execution_count": 6,
   "id": "7b5b1815-105b-465e-a0ce-897dea5a8892",
   "metadata": {
    "execution": {
     "iopub.execute_input": "2023-02-21T17:35:11.603379Z",
     "iopub.status.busy": "2023-02-21T17:35:11.602546Z",
     "iopub.status.idle": "2023-02-21T17:35:11.609418Z",
     "shell.execute_reply": "2023-02-21T17:35:11.608504Z",
     "shell.execute_reply.started": "2023-02-21T17:35:11.603350Z"
    },
    "tags": []
   },
   "outputs": [],
   "source": [
    "sn_ids = np.load(\"potential_sn_ids.npy\")"
   ]
  },
  {
   "cell_type": "markdown",
   "id": "e6a3e540-ee55-47ea-848f-b76fdf2b71e7",
   "metadata": {},
   "source": [
    "## Exercise 2: Ia Lightcurve fitting.\n",
    "\n",
    "Using `sncosmo`, fit a [SALT2](https://ui.adsabs.harvard.edu/abs/2007A%26A...466...11G/abstract) model to each of the candidate Ia SNe you identified in Exercise 1.  \n",
    "\n",
    "The fit to each lightcurve will yield parameters `z` (redshift), `t0` (time of peak brightness), `x0` (amplitude), `x1` (stretch), and `c` (color).  Save them and their errors. \n",
    "\n",
    "Note that the fit may fail for some of your lightcurves; that's okay."
   ]
  },
  {
   "cell_type": "code",
   "execution_count": 16,
   "id": "c0381f0b-6b05-41cb-9c0c-aad87e05cea7",
   "metadata": {
    "execution": {
     "iopub.execute_input": "2023-02-21T17:40:57.551986Z",
     "iopub.status.busy": "2023-02-21T17:40:57.550891Z",
     "iopub.status.idle": "2023-02-21T17:40:57.555598Z",
     "shell.execute_reply": "2023-02-21T17:40:57.554844Z",
     "shell.execute_reply.started": "2023-02-21T17:40:57.551939Z"
    },
    "tags": []
   },
   "outputs": [],
   "source": [
    "model = sncosmo.Model(source='salt2')"
   ]
  },
  {
   "cell_type": "code",
   "execution_count": 18,
   "id": "73f03fa1-07ca-466a-9a39-9b44e3be4637",
   "metadata": {
    "execution": {
     "iopub.execute_input": "2023-02-21T17:43:56.157687Z",
     "iopub.status.busy": "2023-02-21T17:43:56.156702Z",
     "iopub.status.idle": "2023-02-21T17:44:23.880554Z",
     "shell.execute_reply": "2023-02-21T17:44:23.879765Z",
     "shell.execute_reply.started": "2023-02-21T17:43:56.157646Z"
    },
    "tags": []
   },
   "outputs": [
    {
     "name": "stdout",
     "output_type": "stream",
     "text": [
      "CPU times: user 16.8 s, sys: 73.1 ms, total: 16.9 s\n",
      "Wall time: 27.7 s\n"
     ]
    }
   ],
   "source": [
    "%%time\n",
    "converged = np.repeat(True, len(tx))\n",
    "parameters = np.zeros((len(tx), 5))\n",
    "errors = np.zeros((len(tx), 5))\n",
    "\n",
    "for j in range(len(tx)):\n",
    "    results = service.search(\"SELECT midPointTai, filterName AS band, psFlux AS flux, psFluxErr as fluxerr \"\n",
    "                             \"FROM dp02_dc2_catalogs.DiaSource \"\n",
    "                             \"WHERE diaObjectId = \"+str(DiaObjs['diaObjectId'][tx[j]]))\n",
    "    results = results.to_table()\n",
    "    results.rename_column(\"midPointTai\", \"time\")\n",
    "\n",
    "    for i in range(len(results)):\n",
    "        results[i][\"band\"] = \"lsst\" + results[i][\"band\"]\n",
    "\n",
    "    results[\"zp\"] = np.ones(len(results)) * -25.0\n",
    "    bands = 'ugrizy'\n",
    "    zps = [-27.03, -28.38, -28.16, -27.85, -27.46, -26.68]\n",
    "    for band, zp in zip(bands, zps):\n",
    "        results[\"zp\"][results[\"band\"] == f'lsst{band}'] = zp\n",
    "    \n",
    "    results[\"zpsys\"] = np.repeat(\"ab\", len(results))\n",
    "\n",
    "    try:\n",
    "        lc = sncosmo.fit_lc(results, model, ['z', 't0', 'x0', 'x1', 'c'],\n",
    "                            bounds={'z':(0.1, 0.3)})\n",
    "    except:\n",
    "        converged[j] = False\n",
    "        continue\n",
    "        \n",
    "    parameters[j] = lc[0][\"parameters\"]\n",
    "    errors[j] = [lc[0][\"errors\"][param_name] for param_name in lc[0][\"param_names\"]]"
   ]
  },
  {
   "cell_type": "markdown",
   "id": "8f750e4c-e349-43df-a91d-3e2c3c78a49c",
   "metadata": {},
   "source": [
    "## Exercise 3: My First Hubble Diagram\n",
    "\n",
    "Now we will use our SALT2 fit values to create a rudimentary Hubble diagram.  We will plot the distance modulus $\\mu$ derived from the SALT fits as a function of redshift."
   ]
  },
  {
   "cell_type": "markdown",
   "id": "3180aa9e-79a9-4c97-a967-f8df12491f8f",
   "metadata": {
    "execution": {
     "iopub.execute_input": "2023-02-14T21:02:00.459541Z",
     "iopub.status.busy": "2023-02-14T21:02:00.458830Z",
     "iopub.status.idle": "2023-02-14T21:02:00.463638Z",
     "shell.execute_reply": "2023-02-14T21:02:00.462867Z",
     "shell.execute_reply.started": "2023-02-14T21:02:00.459514Z"
    },
    "tags": []
   },
   "source": [
    "<div class=\"alert alert-block alert-warning\">\n",
    "    <b>Warning:</b> This analaysis approach is intended to be illustrative, and doesn't reflect the current state of the art for Ia cosmology.  The interested reader is encouraged to consult the literature (e.g., <a href=\"https://ui.adsabs.harvard.edu/abs/2022ApJ...938..111B/abstract\">Brout+22</a>, <a href=\"https://ui.adsabs.harvard.edu/abs/2022arXiv221107657D/abstract\">Dhawan+22</a>, <a href=\"https://ui.adsabs.harvard.edu/abs/2022ApJ...934...96S/abstract\">Sanchez+22</a>, and references therein) to learn more.\n",
    "\n",
    "</div>"
   ]
  },
  {
   "cell_type": "markdown",
   "id": "f4746fbd-646b-4af0-a5db-2d3ae7b9ef49",
   "metadata": {},
   "source": [
    "The [Tripp Law](https://ui.adsabs.harvard.edu/abs/1998A%26A...331..815T/abstract) can be [written](https://ui.adsabs.harvard.edu/abs/2011ApJ...740...72M/abstract) in terms of the SALT2 model parameters:\n",
    "\n",
    "$\\mu = -2.5 \\log_{10}{x_0} + \\alpha x_1 - \\beta c - M_0$\n",
    "\n",
    "The parameters $\\alpha$, $\\beta$, and $M_0$ are typically fit along with the cosmological model.  For simplicity, we will adopt the DC2 values $\\alpha = 0.137$, $\\beta=3.21$ (see Table 1 of [Sanchez+22](https://ui.adsabs.harvard.edu/abs/2022ApJ...934...96S/abstract))."
   ]
  },
  {
   "cell_type": "markdown",
   "id": "d57ccb45-a1c7-4fb1-9c2d-7a739baed145",
   "metadata": {},
   "source": [
    "### Exercise 3a:\n",
    "\n",
    "Using the above formula, plot the distance modulus versus redshift for our Ia supernovae.  Overplot the theoretical luminosity distance vs. redshift curve for a fiducial cosmology.  Use \"chi by eye\" to adjust $M_0$ until the points overlap reasonably with the model."
   ]
  },
  {
   "cell_type": "code",
   "execution_count": 19,
   "id": "fac73f86-6a27-4f97-915a-581372be7cfd",
   "metadata": {
    "execution": {
     "iopub.execute_input": "2023-02-21T17:44:27.591546Z",
     "iopub.status.busy": "2023-02-21T17:44:27.590483Z",
     "iopub.status.idle": "2023-02-21T17:44:27.598008Z",
     "shell.execute_reply": "2023-02-21T17:44:27.596863Z",
     "shell.execute_reply.started": "2023-02-21T17:44:27.591510Z"
    },
    "tags": []
   },
   "outputs": [],
   "source": [
    "quality = (DiaObjs[tx][\"duration\"] < 100) & (errors[:, 2] < 1.5) & (errors[:, 3] < 0.5)\\\n",
    "    & ~(np.isclose(parameters[:, 0], 0.1)) & ~(np.isclose(parameters[:, 0], 0.3))"
   ]
  },
  {
   "cell_type": "code",
   "execution_count": 20,
   "id": "8792f338-75f5-4ca9-897b-afac4f5ee354",
   "metadata": {
    "execution": {
     "iopub.execute_input": "2023-02-21T17:44:29.096801Z",
     "iopub.status.busy": "2023-02-21T17:44:29.095917Z",
     "iopub.status.idle": "2023-02-21T17:44:29.100616Z",
     "shell.execute_reply": "2023-02-21T17:44:29.099885Z",
     "shell.execute_reply.started": "2023-02-21T17:44:29.096769Z"
    },
    "tags": []
   },
   "outputs": [],
   "source": [
    "z = parameters[:, 0][converged & quality]\n",
    "x0 = parameters[:, 2][converged & quality]\n",
    "x1 = parameters[:, 3][converged & quality]"
   ]
  },
  {
   "cell_type": "code",
   "execution_count": 23,
   "id": "c9a565d1-2971-41f4-9859-98d2a87d5336",
   "metadata": {
    "execution": {
     "iopub.execute_input": "2023-02-21T17:44:36.419383Z",
     "iopub.status.busy": "2023-02-21T17:44:36.418560Z",
     "iopub.status.idle": "2023-02-21T17:44:36.423983Z",
     "shell.execute_reply": "2023-02-21T17:44:36.423201Z",
     "shell.execute_reply.started": "2023-02-21T17:44:36.419350Z"
    },
    "tags": []
   },
   "outputs": [],
   "source": [
    "def mu(M0):\n",
    "    alpha = 0.137\n",
    "    beta = 3.21\n",
    "    return -2.5 * np.log10(x0) + (alpha * x1) - beta - M0\n",
    "\n",
    "def dist_from_modulus(mu):\n",
    "    return 10**(1 + (mu / 5))\n",
    "\n",
    "def modulus_from_dist(dist):\n",
    "    return (np.log10(dist.to(u.pc).value) - 1) * 5"
   ]
  },
  {
   "cell_type": "code",
   "execution_count": 24,
   "id": "692329a3-efe3-4cdb-855e-40839400f342",
   "metadata": {
    "execution": {
     "iopub.execute_input": "2023-02-21T17:44:37.805302Z",
     "iopub.status.busy": "2023-02-21T17:44:37.804391Z",
     "iopub.status.idle": "2023-02-21T17:44:37.809941Z",
     "shell.execute_reply": "2023-02-21T17:44:37.809228Z",
     "shell.execute_reply.started": "2023-02-21T17:44:37.805267Z"
    },
    "tags": []
   },
   "outputs": [],
   "source": [
    "lum_dist = cosmo.luminosity_distance(z)\n",
    "dist_mod = (np.log10(lum_dist.to(u.pc).value) - 1) * 5\n",
    "order = np.argsort(lum_dist)"
   ]
  },
  {
   "cell_type": "code",
   "execution_count": 43,
   "id": "dcec56bf-24b3-44a1-b16f-1b1867613b9b",
   "metadata": {
    "execution": {
     "iopub.execute_input": "2023-02-21T17:47:46.649541Z",
     "iopub.status.busy": "2023-02-21T17:47:46.648545Z",
     "iopub.status.idle": "2023-02-21T17:47:46.654469Z",
     "shell.execute_reply": "2023-02-21T17:47:46.653732Z",
     "shell.execute_reply.started": "2023-02-21T17:47:46.649514Z"
    },
    "tags": []
   },
   "outputs": [
    {
     "data": {
      "text/plain": [
       "0.8050125312681311"
      ]
     },
     "execution_count": 43,
     "metadata": {},
     "output_type": "execute_result"
    }
   ],
   "source": [
    "residuals = dist_mod - mu(-100)\n",
    "np.std(residuals)"
   ]
  },
  {
   "cell_type": "code",
   "execution_count": 28,
   "id": "40fcb492-b214-4fbe-94a5-31f8cfa081d3",
   "metadata": {
    "execution": {
     "iopub.execute_input": "2023-02-21T17:45:10.325180Z",
     "iopub.status.busy": "2023-02-21T17:45:10.324265Z",
     "iopub.status.idle": "2023-02-21T17:45:10.329639Z",
     "shell.execute_reply": "2023-02-21T17:45:10.329012Z",
     "shell.execute_reply.started": "2023-02-21T17:45:10.325146Z"
    },
    "tags": []
   },
   "outputs": [],
   "source": [
    "def plot_dist_mod(M0):\n",
    "    fig, ax = plt.subplots()\n",
    "\n",
    "    ax.scatter(z, mu(M0), label=\"SNIa Candidates\")\n",
    "    ax.plot(z[order], dist_mod[order], label=\"Theoretical distance-redshift relation\", color=\"tab:purple\", lw=3)\n",
    "\n",
    "    \n",
    "    \n",
    "    ax.legend()\n",
    "\n",
    "    ax.set_xlabel(r\"Redshift, $z$\")\n",
    "    ax.set_ylabel(r\"Distance Modulus\")\n",
    "\n",
    "    plt.show()\n",
    "\n",
    "    residuals = dist_mod - mu(M0)\n",
    "    return np.std(residuals)"
   ]
  },
  {
   "cell_type": "code",
   "execution_count": 31,
   "id": "fe9a03c6-087f-4393-a8d3-05654b7348c0",
   "metadata": {
    "execution": {
     "iopub.execute_input": "2023-02-21T17:45:40.902040Z",
     "iopub.status.busy": "2023-02-21T17:45:40.901102Z",
     "iopub.status.idle": "2023-02-21T17:45:41.138702Z",
     "shell.execute_reply": "2023-02-21T17:45:41.137923Z",
     "shell.execute_reply.started": "2023-02-21T17:45:40.902010Z"
    },
    "tags": []
   },
   "outputs": [
    {
     "data": {
      "application/vnd.jupyter.widget-view+json": {
       "model_id": "352bb7fa2e6b4d339e23686dd9cc6968",
       "version_major": 2,
       "version_minor": 0
      },
      "text/plain": [
       "interactive(children=(FloatSlider(value=-91.0, description='M0', max=-90.0, min=-92.0), Output()), _dom_classe…"
      ]
     },
     "metadata": {},
     "output_type": "display_data"
    },
    {
     "data": {
      "text/plain": [
       "<function __main__.plot_dist_mod(M0)>"
      ]
     },
     "execution_count": 31,
     "metadata": {},
     "output_type": "execute_result"
    }
   ],
   "source": [
    "interact(plot_dist_mod, M0=(-92, -90, 0.1))"
   ]
  },
  {
   "cell_type": "markdown",
   "id": "1c7cd914-03a4-4124-8882-12e41c23529c",
   "metadata": {},
   "source": [
    "## Exercise 3b:\n",
    "\n",
    "Compute the standard deviation of the residuals between the fit $\\mu$ values and the luminosity distance expected at that redshift.  How does that compare to the simulated \"intrinsic scatter\" of 0.15 mag in the DC2 simulations (Table 1 of [Sanchez+22](https://ui.adsabs.harvard.edu/abs/2022ApJ...934...96S/abstract))? \n",
    "\n",
    "What steps could you imagine taking to reduce the scatter in your Hubble diagram?"
   ]
  },
  {
   "cell_type": "code",
   "execution_count": 44,
   "id": "07aae5d9-7e00-4277-9c45-c1935ab65d9d",
   "metadata": {
    "execution": {
     "iopub.execute_input": "2023-02-21T17:48:10.891571Z",
     "iopub.status.busy": "2023-02-21T17:48:10.890658Z",
     "iopub.status.idle": "2023-02-21T17:48:10.895363Z",
     "shell.execute_reply": "2023-02-21T17:48:10.894519Z",
     "shell.execute_reply.started": "2023-02-21T17:48:10.891538Z"
    },
    "tags": []
   },
   "outputs": [],
   "source": [
    "best_M = -91.5\n",
    "residuals = dist_mod - mu(best_M)"
   ]
  },
  {
   "cell_type": "code",
   "execution_count": 49,
   "id": "52215c5f-6ecd-40c5-b8c4-523bd18d273e",
   "metadata": {
    "execution": {
     "iopub.execute_input": "2023-02-21T17:48:33.312244Z",
     "iopub.status.busy": "2023-02-21T17:48:33.311302Z",
     "iopub.status.idle": "2023-02-21T17:48:33.317087Z",
     "shell.execute_reply": "2023-02-21T17:48:33.316338Z",
     "shell.execute_reply.started": "2023-02-21T17:48:33.312213Z"
    },
    "tags": []
   },
   "outputs": [
    {
     "data": {
      "text/plain": [
       "0.8050125312681311"
      ]
     },
     "execution_count": 49,
     "metadata": {},
     "output_type": "execute_result"
    }
   ],
   "source": [
    "np.std(residuals)"
   ]
  },
  {
   "cell_type": "markdown",
   "id": "ce3e7999-a07e-404d-8c02-ad4335ef0a7a",
   "metadata": {},
   "source": [
    "This is clearly much higher than the 0.15mag in the simulations. However we have taken very rudimentary metric for what constitutes a SNIa and so it is likely that some of the sample is not supposed to be there. We should go through and inspect each of the lightcurves and see which ones actually seem like they are true SNIa. This should remove many of the outliers from the plot (e.g. the one around z=0.225). I would probably need a larger sample as well as that point but that would just require running all of this for a tad longer."
   ]
  }
 ],
 "metadata": {
  "kernelspec": {
   "display_name": "LSST",
   "language": "python",
   "name": "lsst"
  },
  "language_info": {
   "codemirror_mode": {
    "name": "ipython",
    "version": 3
   },
   "file_extension": ".py",
   "mimetype": "text/x-python",
   "name": "python",
   "nbconvert_exporter": "python",
   "pygments_lexer": "ipython3",
   "version": "3.10.9"
  }
 },
 "nbformat": 4,
 "nbformat_minor": 5
}
